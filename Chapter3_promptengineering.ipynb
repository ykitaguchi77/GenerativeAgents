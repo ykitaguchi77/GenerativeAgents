{
  "nbformat": 4,
  "nbformat_minor": 0,
  "metadata": {
    "colab": {
      "provenance": [],
      "authorship_tag": "ABX9TyNK4vkGIvQuD15l2Ves/RvZ",
      "include_colab_link": true
    },
    "kernelspec": {
      "name": "python3",
      "display_name": "Python 3"
    },
    "language_info": {
      "name": "python"
    }
  },
  "cells": [
    {
      "cell_type": "markdown",
      "metadata": {
        "id": "view-in-github",
        "colab_type": "text"
      },
      "source": [
        "<a href=\"https://colab.research.google.com/github/ykitaguchi77/GenerativeAgents/blob/main/Chapter3_promptengineering.ipynb\" target=\"_parent\"><img src=\"https://colab.research.google.com/assets/colab-badge.svg\" alt=\"Open In Colab\"/></a>"
      ]
    },
    {
      "cell_type": "markdown",
      "source": [
        "#**Chapter3 Prompt engineering**\n",
        "\n"
      ],
      "metadata": {
        "id": "OMkvkiZw16df"
      }
    },
    {
      "cell_type": "code",
      "execution_count": null,
      "metadata": {
        "id": "DFPnvG4z15kC"
      },
      "outputs": [],
      "source": [
        "import os\n",
        "from google.colab import userdata\n",
        "\n",
        "os.environ[\"OPENAI_API_KEY\"] = userdata.get(\"OPENAI_API_KEY\")"
      ]
    },
    {
      "cell_type": "code",
      "source": [
        "!pip install openai==1.40.6 httpx==0.27.2 --q"
      ],
      "metadata": {
        "id": "Rq2Ta8ct2aSF",
        "colab": {
          "base_uri": "https://localhost:8080/"
        },
        "outputId": "3c8af07a-57d2-4c25-89a3-4c3f4f40698c"
      },
      "execution_count": null,
      "outputs": [
        {
          "output_type": "stream",
          "name": "stdout",
          "text": [
            "\u001b[?25l   \u001b[90m━━━━━━━━━━━━━━━━━━━━━━━━━━━━━━━━━━━━━━━━\u001b[0m \u001b[32m0.0/361.3 kB\u001b[0m \u001b[31m?\u001b[0m eta \u001b[36m-:--:--\u001b[0m\r\u001b[2K   \u001b[90m━━━━━━━━━━━━━━━━━━━━━━━━━━━━━━━━━━━━━━━━\u001b[0m \u001b[32m361.3/361.3 kB\u001b[0m \u001b[31m12.3 MB/s\u001b[0m eta \u001b[36m0:00:00\u001b[0m\n",
            "\u001b[?25h\u001b[?25l   \u001b[90m━━━━━━━━━━━━━━━━━━━━━━━━━━━━━━━━━━━━━━━━\u001b[0m \u001b[32m0.0/76.4 kB\u001b[0m \u001b[31m?\u001b[0m eta \u001b[36m-:--:--\u001b[0m\r\u001b[2K   \u001b[90m━━━━━━━━━━━━━━━━━━━━━━━━━━━━━━━━━━━━━━━━\u001b[0m \u001b[32m76.4/76.4 kB\u001b[0m \u001b[31m5.4 MB/s\u001b[0m eta \u001b[36m0:00:00\u001b[0m\n",
            "\u001b[?25h"
          ]
        }
      ]
    },
    {
      "cell_type": "markdown",
      "source": [
        "## プロンプトエンジニアリングとは"
      ],
      "metadata": {
        "id": "lsfMYExK2yrw"
      }
    },
    {
      "cell_type": "code",
      "source": [
        "from openai import OpenAI\n",
        "\n",
        "client = OpenAI()\n",
        "\n",
        "response = client.chat.completions.create(\n",
        "    model=\"gpt-4o-mini\",\n",
        "    messages=[\n",
        "        {\"role\": \"user\", \"content\": \"プロンプトエンジニアリングとは\"},\n",
        "    ],\n",
        ")\n",
        "print(response.choices[0].message.content)"
      ],
      "metadata": {
        "id": "VX8ApkWb21dX"
      },
      "execution_count": null,
      "outputs": []
    },
    {
      "cell_type": "code",
      "source": [
        "response = client.chat.completions.create(\n",
        "    model=\"gpt-4o-mini\",\n",
        "    messages=[\n",
        "        {\"role\": \"system\", \"content\": \"質問に100文字程度で答えてください。\"},\n",
        "        {\"role\": \"user\", \"content\": \"プロンプトエンジニアリングとは\"},\n",
        "    ],\n",
        ")\n",
        "print(response.choices[0].message.content)"
      ],
      "metadata": {
        "colab": {
          "base_uri": "https://localhost:8080/"
        },
        "id": "9aBz_xu93Dtw",
        "outputId": "78960a0f-e6be-4779-e1ab-754f6e08b545"
      },
      "execution_count": null,
      "outputs": [
        {
          "output_type": "stream",
          "name": "stdout",
          "text": [
            "プロンプトエンジニアリングは、AIに特定の結果を生成させるために最適な質問や命令を設計する技術です。効果的なプロンプトを作成することで、AIの応答の質や関連性を向上させることができます。主に自然言語処理の分野で活用されています。\n"
          ]
        }
      ]
    },
    {
      "cell_type": "markdown",
      "source": [
        "## 3.3. プロンプトの構成要素の基本\n"
      ],
      "metadata": {
        "id": "MWpCWtJC3ROh"
      }
    },
    {
      "cell_type": "code",
      "source": [
        "prompt = '''\\\n",
        "以下の料理のレシピを考えてください。\n",
        "\n",
        "料理名: \"\"\"\n",
        "{dish}\n",
        "\"\"\"\n",
        "'''\n",
        "\n",
        "\n",
        "def generate_recipe(dish: str) -> str:\n",
        "    response = client.chat.completions.create(\n",
        "        model=\"gpt-4o-mini\",\n",
        "        messages=[\n",
        "            {\"role\": \"user\", \"content\": prompt.format(dish=dish)},\n",
        "        ],\n",
        "    )\n",
        "    return response.choices[0].message.content\n",
        "\n",
        "\n",
        "recipe = generate_recipe(\"カレー\")\n",
        "print(recipe)"
      ],
      "metadata": {
        "colab": {
          "base_uri": "https://localhost:8080/"
        },
        "id": "X6bwD31R3TSW",
        "outputId": "403166ac-396c-4059-9fe5-0e9b21848c65"
      },
      "execution_count": null,
      "outputs": [
        {
          "output_type": "stream",
          "name": "stdout",
          "text": [
            "カレーのレシピを考えました。ここでは、基本的なチキンカレーのレシピを紹介します。お好みに応じて他の具材や香辛料を追加しても美味しく作れます。\n",
            "\n",
            "### 材料（4人分）\n",
            "\n",
            "- 鶏もも肉：400g\n",
            "- 玉ねぎ：2個\n",
            "- にんにく：2片\n",
            "- しょうが：1片\n",
            "- トマト：2個（またはカットトマト缶400g）\n",
            "- カレー粉：大さじ2\n",
            "- サラダ油：大さじ2\n",
            "- 塩：適量\n",
            "- 胡椒：適量\n",
            "- 水：500ml\n",
            "- ココナッツミルク（お好みで）：200ml\n",
            "- ガラムマサラ（お好みで）：小さじ1\n",
            "- ピーマンやニンジンなどの野菜（お好みで）：適量\n",
            "- ご飯（米）：適量\n",
            "\n",
            "### 作り方\n",
            "\n",
            "1. **材料の下ごしらえ**：\n",
            "   - 鶏もも肉は一口大に切ります。\n",
            "   - 玉ねぎ、にんにく、しょうがはみじん切りにします。\n",
            "   - トマトはざく切りにします。\n",
            "   - お好みの野菜も適宜切っておきます。\n",
            "\n",
            "2. **鶏肉の下処理**：\n",
            "   - 鍋にサラダ油を熱し、鶏肉を加えて表面が白くなるまで炒めます。塩と胡椒を少々振りかけて下味をつけます。\n",
            "\n",
            "3. **香味野菜の調理**：\n",
            "   - 鶏肉が白くなったら、みじん切りにした玉ねぎを加え、透明になるまで炒めます。\n",
            "   - 続いて、にんにくとしょうがを加え、香りが立つまで炒めます。\n",
            "\n",
            "4. **スパイスとトマトの追加**：\n",
            "   - カレー粉を加えて全体を混ぜ、中火で1分ほど炒めます。\n",
            "   - トマトを加え、柔らかくなるまで煮ます。\n",
            "\n",
            "5. **煮込み**：\n",
            "   - 水を加え、沸騰したらアクを取り除き、中火にして約20分煮込みます。\n",
            "   - （お好みで）ピーマンやニンジンなどの野菜を加え、さらに10分程度煮込みます。\n",
            "\n",
            "6. **仕上げ**：\n",
            "   - ココナッツミルクを加え、全体を混ぜて5分ほど煮込みます。\n",
            "   - 味見をして、塩や胡椒で調整します。\n",
            "   - 最後にガラムマサラを加えて、火を止めます。\n",
            "\n",
            "7. **盛り付け**：\n",
            "   - ご飯を皿に盛り、カレーをかけていただきます。\n",
            "\n",
            "### おすすめのトッピング\n",
            "\n",
            "- お好みでパセリやレモンを添えても美味しいです。\n",
            "- ナンやライスと一緒に楽しむとさらに満足感が増します。\n",
            "\n",
            "ぜひ、おいしいカレーを作ってみてください！\n"
          ]
        }
      ]
    },
    {
      "cell_type": "code",
      "source": [
        "prompt = '''\\\n",
        "以下の料理のレシピを考えてください。\n",
        "\n",
        "料理名: \"\"\"\n",
        "{dish}\n",
        "\"\"\"\n",
        "'''\n",
        "prompt.format(dish=\"カレー\")"
      ],
      "metadata": {
        "colab": {
          "base_uri": "https://localhost:8080/",
          "height": 35
        },
        "id": "3FS3NFHJ4InS",
        "outputId": "e72ab149-4517-4357-d734-ddad45aa14d4"
      },
      "execution_count": null,
      "outputs": [
        {
          "output_type": "execute_result",
          "data": {
            "text/plain": [
              "'以下の料理のレシピを考えてください。\\n\\n料理名: \"\"\"\\nカレー\\n\"\"\"\\n'"
            ],
            "application/vnd.google.colaboratory.intrinsic+json": {
              "type": "string"
            }
          },
          "metadata": {},
          "execution_count": 9
        }
      ]
    },
    {
      "cell_type": "code",
      "source": [
        "prompt = \"\"\"\\\n",
        "ユーザーが入力した料理のレシピを考えてください。\n",
        "\n",
        "料理名: '''\n",
        "{dish}\n",
        "'''\n",
        "\"\"\"\n",
        "\n",
        "\n",
        "def generate_recipe(dish: str) -> str:\n",
        "    response = client.chat.completions.create(\n",
        "        model=\"gpt-4o-mini\",\n",
        "        messages=[\n",
        "            {\"role\": \"system\", \"content\": \"ユーザーが入力した料理のレシピを考えてください。\"},\n",
        "            {\"role\": \"user\", \"content\": f\"{dish}\"},\n",
        "        ],\n",
        "    )\n",
        "    return response.choices[0].message.content\n",
        "\n",
        "\n",
        "recipe = generate_recipe(\"カレー\")\n",
        "print(recipe)"
      ],
      "metadata": {
        "id": "ISXXcNOT4EVl"
      },
      "execution_count": null,
      "outputs": []
    },
    {
      "cell_type": "markdown",
      "source": [
        "## 出力形式を指定する\n"
      ],
      "metadata": {
        "id": "uj_BJqUP47GQ"
      }
    },
    {
      "cell_type": "code",
      "source": [
        "system_prompt = \"\"\"\\\n",
        "ユーザーが入力した料理のレシピを考えてください。\n",
        "\n",
        "出力は以下のJSON形式にしてください。\n",
        "\n",
        "```\n",
        "{\n",
        "  \"材料\": [\"材料1\", \"材料2\"],\n",
        "  \"手順\": [\"手順1\", \"手順2\"]\n",
        "}\n",
        "```\n",
        "\"\"\"\n",
        "\n",
        "response = client.chat.completions.create(\n",
        "    model=\"gpt-4o-mini\",\n",
        "    messages=[\n",
        "        {\"role\": \"system\", \"content\": system_prompt},\n",
        "        {\"role\": \"user\", \"content\": \"カレー\"},\n",
        "    ],\n",
        ")\n",
        "print(response.choices[0].message.content)"
      ],
      "metadata": {
        "colab": {
          "base_uri": "https://localhost:8080/"
        },
        "id": "pclTp9if49kw",
        "outputId": "659e3df9-3641-4a8c-f452-00e9fe942323"
      },
      "execution_count": null,
      "outputs": [
        {
          "output_type": "stream",
          "name": "stdout",
          "text": [
            "{\n",
            "  \"材料\": [\"鶏肉\", \"玉ねぎ\", \"にんじん\", \"じゃがいも\", \"カレールー\", \"水\", \"塩\", \"胡椒\"],\n",
            "  \"手順\": [\n",
            "    \"鶏肉、玉ねぎ、にんじん、じゃがいもを食べやすい大きさに切る。\",\n",
            "    \"鍋に油を熱し、玉ねぎを炒め、透明になるまで炒め続ける。\",\n",
            "    \"鶏肉を加え、表面が白くなるまで炒める。\",\n",
            "    \"にんじんとじゃがいもを加え、全体を混ぜて軽く炒める。\",\n",
            "    \"水を加え、煮立ったらアクを取り、弱火で20分程度煮る。\",\n",
            "    \"カレールーを加え、よく溶かして香りが立つまで煮込み、塩と胡椒で味を調える。\",\n",
            "    \"ご飯と一緒に盛り付けて完成。\"\n",
            "  ]\n",
            "}\n"
          ]
        }
      ]
    },
    {
      "cell_type": "markdown",
      "source": [
        "#**プロンプトテクニック**"
      ],
      "metadata": {
        "id": "drJ0XHUx6PuR"
      }
    },
    {
      "cell_type": "markdown",
      "source": [
        "### Zero-shot プロンプティング\n"
      ],
      "metadata": {
        "id": "uasUdxKJ6Vqq"
      }
    },
    {
      "cell_type": "code",
      "source": [
        "from openai import OpenAI\n",
        "\n",
        "client = OpenAI()\n",
        "\n",
        "response = client.chat.completions.create(\n",
        "    model=\"gpt-4o-mini\",\n",
        "    messages=[\n",
        "        {\n",
        "            \"role\": \"system\",\n",
        "            \"content\": \"入力をポジティブ・ネガティブ・中立のどれかに分類してください。\",\n",
        "        },\n",
        "        {\n",
        "            \"role\": \"user\",\n",
        "            \"content\": \"ChatGPTはとても便利だ\",\n",
        "        },\n",
        "    ],\n",
        ")\n",
        "print(response.choices[0].message.content)"
      ],
      "metadata": {
        "colab": {
          "base_uri": "https://localhost:8080/"
        },
        "id": "tHzAvtdS6UAG",
        "outputId": "36b9e752-b075-4378-d813-1e4463221948"
      },
      "execution_count": null,
      "outputs": [
        {
          "output_type": "stream",
          "name": "stdout",
          "text": [
            "ポジティブ\n"
          ]
        }
      ]
    }
  ]
}